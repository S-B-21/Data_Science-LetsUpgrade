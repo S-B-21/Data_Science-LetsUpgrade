{
 "cells": [
  {
   "cell_type": "markdown",
   "metadata": {},
   "source": [
    "# Question 1.\n",
    "\n",
    "# Ans. "
   ]
  },
  {
   "cell_type": "code",
   "execution_count": 3,
   "metadata": {},
   "outputs": [
    {
     "name": "stdout",
     "output_type": "stream",
     "text": [
      "[ 2  5  8 11 14 17 20 23 26 29 32 35 38 41 44 47]\n"
     ]
    }
   ],
   "source": [
    "import numpy as np\n",
    "print(np.arange(2,50,3))\n"
   ]
  },
  {
   "cell_type": "markdown",
   "metadata": {},
   "source": [
    "# Quetion 2\n",
    "\n",
    "# Ans.\n"
   ]
  },
  {
   "cell_type": "code",
   "execution_count": 4,
   "metadata": {},
   "outputs": [
    {
     "name": "stdout",
     "output_type": "stream",
     "text": [
      "enter the size of list5\n",
      "enter the number list:1 2 3 4 5\n",
      "first list [1, 2, 3, 4, 5]\n",
      " \n",
      "enter the size of list5\n",
      "enter the number list:6 7 8 9 10\n",
      "first list [6, 7, 8, 9, 10]\n",
      " \n",
      "array1 as numpy array [1 2 3 4 5]\n",
      "array2 as numpy array [ 6  7  8  9 10]\n",
      " \n",
      "concatenated array [ 1  2  3  4  5  6  7  8  9 10]\n",
      " \n",
      "sorted array [ 1  2  3  4  5  6  7  8  9 10]\n"
     ]
    }
   ],
   "source": [
    "import numpy \n",
    "\n",
    "list1 = int(input(\"enter the size of list\"))\n",
    "num_list1 = list(int(num)for num in input(\"enter the number list:\").strip().split())\n",
    "print(\"first list\",num_list1)\n",
    "print(\" \")\n",
    "\n",
    "list2 = int(input(\"enter the size of list\")) \n",
    "num_list2 = list(int(num)for num in input(\"enter the number list:\").strip().split())\n",
    "print(\"first list\",num_list2)\n",
    "print(\" \")\n",
    "\n",
    "array1 = numpy.array(num_list1)\n",
    "print(\"array1 as numpy array\", array1)\n",
    "\n",
    "array2 = numpy.array(num_list2)\n",
    "print(\"array2 as numpy array\", array2)\n",
    "print(\" \")\n",
    "\n",
    "concatenated_array = numpy.concatenate((array1,array2), axis=0)\n",
    "print(\"concatenated array\",concatenated_array)\n",
    "print(\" \")\n",
    "\n",
    "concatenated_array.sort()\n",
    "print(\"sorted array\", concatenated_array)\n"
   ]
  },
  {
   "cell_type": "markdown",
   "metadata": {},
   "source": [
    "# Question 3\n",
    "\n",
    "# Ans"
   ]
  },
  {
   "cell_type": "code",
   "execution_count": 6,
   "metadata": {},
   "outputs": [
    {
     "name": "stdout",
     "output_type": "stream",
     "text": [
      "2D array\n",
      "[[ 1  2  3  4]\n",
      " [ 5  6  7  8]\n",
      " [ 9 10 11 12]]\n",
      " \n",
      "Number of Rows:  3\n",
      "Number of columns:  4\n"
     ]
    }
   ],
   "source": [
    "import numpy as np\n",
    "arr_2d = np.array([[1 ,2 , 3, 4],[5, 6, 7, 8],[9, 10, 11, 12]])\n",
    "print(\"2D array\")\n",
    "print(arr_2d)\n",
    "print(\" \")\n",
    "\n",
    "rows = np.size(arr_2d, 0)\n",
    "print (\"Number of Rows: \", rows)\n",
    "\n",
    "columns = np.size(arr_2d, 1)\n",
    "print(\"Number of columns: \", columns)"
   ]
  },
  {
   "cell_type": "markdown",
   "metadata": {},
   "source": [
    "# Quetion 4.\n",
    "\n",
    "# Ans."
   ]
  },
  {
   "cell_type": "code",
   "execution_count": 7,
   "metadata": {},
   "outputs": [
    {
     "name": "stdout",
     "output_type": "stream",
     "text": [
      "1D array: \n",
      "[1 2 3 4 5 6 7 8 9]\n",
      " \n",
      "2D Array\n",
      "[[1 2 3]\n",
      " [4 5 6]\n",
      " [7 8 9]]\n"
     ]
    }
   ],
   "source": [
    "arr = np.array([1,2,3,4,5,6,7,8,9])\n",
    "print(\"1D array: \")\n",
    "print (arr)\n",
    "print(\" \")\n",
    "\n",
    "arr_2d = np.reshape(arr,(3,3))\n",
    "print(\"2D Array\")\n",
    "print(arr_2d)"
   ]
  },
  {
   "cell_type": "markdown",
   "metadata": {},
   "source": [
    "# Question 5.\n",
    "\n",
    "# Ans.\n"
   ]
  },
  {
   "cell_type": "code",
   "execution_count": 15,
   "metadata": {},
   "outputs": [
    {
     "name": "stdout",
     "output_type": "stream",
     "text": [
      "Vertical stack:\n",
      " [[1 2]\n",
      " [3 4]\n",
      " [5 6]\n",
      " [7 8]]\n",
      " \n",
      "Horizontal stack:\n",
      " [[1 2 5 6]\n",
      " [3 4 7 8]]\n"
     ]
    }
   ],
   "source": [
    "a = np.array([[1,2],[3,4]])\n",
    "b = np.array([[5,6],[7,8]])\n",
    "\n",
    "print(\"Vertical stack:\\n\",np.vstack((a,b)))\n",
    "print(\" \")\n",
    "print(\"Horizontal stack:\\n\",np.hstack((a,b)))\n"
   ]
  },
  {
   "cell_type": "markdown",
   "metadata": {},
   "source": [
    "# Quetion 6.\n",
    "\n",
    "# Ans.\n"
   ]
  },
  {
   "cell_type": "code",
   "execution_count": 16,
   "metadata": {},
   "outputs": [
    {
     "name": "stdout",
     "output_type": "stream",
     "text": [
      "unique value: \n",
      "[1 2 3 4 5 6 7 8]\n",
      "No. of unique list 8\n"
     ]
    }
   ],
   "source": [
    " def unique(list1):\n",
    "        x = np.array(list1)\n",
    "        print(np.unique(x))\n",
    "        \n",
    "list1 = [ 1, 2, 3, 4, 5, 6, 7, 8, 4, 2, 3]\n",
    "print(\"unique value: \")\n",
    "unique(list1)\n",
    "\n",
    "list2 = set(list1)\n",
    "print (\"No. of unique list\", len(list2))"
   ]
  },
  {
   "cell_type": "code",
   "execution_count": null,
   "metadata": {},
   "outputs": [],
   "source": []
  }
 ],
 "metadata": {
  "kernelspec": {
   "display_name": "Python 3",
   "language": "python",
   "name": "python3"
  },
  "language_info": {
   "codemirror_mode": {
    "name": "ipython",
    "version": 3
   },
   "file_extension": ".py",
   "mimetype": "text/x-python",
   "name": "python",
   "nbconvert_exporter": "python",
   "pygments_lexer": "ipython3",
   "version": "3.8.3"
  }
 },
 "nbformat": 4,
 "nbformat_minor": 4
}
